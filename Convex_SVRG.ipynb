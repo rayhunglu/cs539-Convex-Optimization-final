{
 "cells": [
  {
   "cell_type": "code",
   "execution_count": 9,
   "metadata": {},
   "outputs": [],
   "source": [
    "import torch\n",
    "from torch.autograd import Variable\n",
    "import torchvision.transforms as transforms\n",
    "import torchvision.datasets as dsets\n",
    "from torch.optim.optimizer import Optimizer, required\n",
    "from matplotlib import pyplot as plt\n",
    "import numpy as np\n",
    "train_dataset = dsets.MNIST(root='./data', train=True, transform=transforms.ToTensor(), download=False)\n",
    "test_dataset = dsets.MNIST(root='./data', train=False, transform=transforms.ToTensor())"
   ]
  },
  {
   "cell_type": "code",
   "execution_count": 4,
   "metadata": {},
   "outputs": [],
   "source": [
    "batch_size = 100\n",
    "n_iters = 3000\n",
    "epochs = n_iters / (len(train_dataset) / batch_size)\n",
    "input_dim = 784\n",
    "output_dim = 10\n",
    "lr_rate = 0.001"
   ]
  },
  {
   "cell_type": "code",
   "execution_count": 5,
   "metadata": {},
   "outputs": [],
   "source": [
    "train_loader = torch.utils.data.DataLoader(dataset=train_dataset, batch_size=batch_size, shuffle=True)\n",
    "test_loader = torch.utils.data.DataLoader(dataset=test_dataset, batch_size=batch_size, shuffle=False)"
   ]
  },
  {
   "cell_type": "code",
   "execution_count": 10,
   "metadata": {},
   "outputs": [],
   "source": [
    "class SVRG(Optimizer):\n",
    "    r\"\"\" implement SVRG \"\"\" \n",
    "\n",
    "    def __init__(self, params, lr=required, freq =10):\n",
    "        if lr is not required and lr < 0.0:\n",
    "            raise ValueError(\"Invalid learning rate: {}\".format(lr))\n",
    "\n",
    "        defaults = dict(lr=lr, freq=freq)\n",
    "        self.counter = 0\n",
    "        self.counter2 = 0\n",
    "        self.flag = False\n",
    "        super(SVRG, self).__init__(params, defaults)\n",
    "\n",
    "    def __setstate__(self, state):\n",
    "        super(SVRG, self).__setstate__(state)\n",
    "        # for group in self.param_groups:\n",
    "        #     group.setdefault('m', )\n",
    "\n",
    "    def step(self, closure=None):\n",
    "        \"\"\"Performs a single optimization step.\n",
    "        Arguments:\n",
    "            closure (callable, optional): A closure that reevaluates the model\n",
    "                and returns the loss.\n",
    "        \"\"\"\n",
    "        loss = None\n",
    "        if closure is not None:\n",
    "            loss = closure()\n",
    "\n",
    "        for group in self.param_groups:\n",
    "            freq = group['freq']\n",
    "            for p in group['params']:\n",
    "                if p.grad is None:\n",
    "                    continue\n",
    "                d_p = p.grad.data\n",
    "                param_state = self.state[p]\n",
    "                \n",
    "                if 'large_batch' not in param_state:\n",
    "                    buf = param_state['large_batch'] = torch.zeros_like(p.data)\n",
    "                    buf.add_(d_p) #add first large, low variance batch\n",
    "                    #need to add the second term in the step equation; the gradient for the original step!\n",
    "                    buf2 = param_state['small_batch'] = torch.zeros_like(p.data)\n",
    "\n",
    "                buf = param_state['large_batch']\n",
    "                buf2 = param_state['small_batch']\n",
    "\n",
    "                if self.counter == freq:\n",
    "                    buf.data = d_p.clone() #copy new large batch. Begining of new inner loop\n",
    "                    temp = torch.zeros_like(p.data)\n",
    "                    buf2.data = temp.clone()\n",
    "                    \n",
    "                if self.counter2 == 1:\n",
    "                    buf2.data.add_(d_p) #first small batch gradient for inner loop!\n",
    "\n",
    "                #dont update parameters when computing large batch (low variance gradients)\n",
    "                if self.counter != freq and self.flag != False:\n",
    "                    p.data.add_(-group['lr'], (d_p - buf2 + buf) )\n",
    "\n",
    "        self.flag = True #rough way of not updating the weights the FIRST time we calculate the large batch gradient\n",
    "        \n",
    "        if self.counter == freq:\n",
    "            self.counter = 0\n",
    "            self.counter2 = 0\n",
    "\n",
    "        self.counter += 1    \n",
    "        self.counter2 += 1\n",
    "\n",
    "        return loss"
   ]
  },
  {
   "cell_type": "code",
   "execution_count": 11,
   "metadata": {},
   "outputs": [],
   "source": [
    "class LogisticRegression(torch.nn.Module):\n",
    "    def __init__(self, input_dim, output_dim):\n",
    "        super(LogisticRegression, self).__init__()\n",
    "        self.linear = torch.nn.Linear(input_dim, output_dim)\n",
    "\n",
    "    def forward(self, x):\n",
    "        outputs = self.linear(x)\n",
    "        return outputs"
   ]
  },
  {
   "cell_type": "code",
   "execution_count": 13,
   "metadata": {},
   "outputs": [],
   "source": [
    "model = LogisticRegression(input_dim, output_dim)\n",
    "criterion = torch.nn.CrossEntropyLoss() # computes softmax and then the cross entropy\n",
    "optimizer = SVRG(model.parameters(), lr=lr_rate)"
   ]
  },
  {
   "cell_type": "code",
   "execution_count": 14,
   "metadata": {},
   "outputs": [
    {
     "name": "stdout",
     "output_type": "stream",
     "text": [
      "Iteration: 500. Loss: 1.876917839050293. Accuracy: 64.\n",
      "Iteration: 1000. Loss: 1.560046672821045. Accuracy: 75.\n",
      "Iteration: 1500. Loss: 1.4023611545562744. Accuracy: 78.\n",
      "Iteration: 2000. Loss: 1.3344879150390625. Accuracy: 80.\n",
      "Iteration: 2500. Loss: 1.1972334384918213. Accuracy: 81.\n",
      "Iteration: 3000. Loss: 1.0787482261657715. Accuracy: 82.\n"
     ]
    }
   ],
   "source": [
    "iter = 0\n",
    "record=[]\n",
    "for epoch in range(int(epochs)):\n",
    "    for i, (images, labels) in enumerate(train_loader):\n",
    "        images = Variable(images.view(-1, 28 * 28))\n",
    "        labels = Variable(labels)\n",
    "\n",
    "        optimizer.zero_grad()\n",
    "        outputs = model(images)\n",
    "        loss = criterion(outputs, labels)\n",
    "        loss.backward()\n",
    "        optimizer.step()\n",
    "        if iter%50==0:\n",
    "            record.append(loss.item())\n",
    "        iter+=1\n",
    "        if iter%500==0:\n",
    "            # calculate Accuracy\n",
    "            correct = 0\n",
    "            total = 0\n",
    "            for images, labels in test_loader:\n",
    "                images = Variable(images.view(-1, 28*28))\n",
    "                outputs = model(images)\n",
    "                _, predicted = torch.max(outputs.data, 1)\n",
    "                total+= labels.size(0)\n",
    "                # for gpu, bring the predicted and labels back to cpu fro python operations to work\n",
    "                correct+= (predicted == labels).sum()\n",
    "            accuracy = 100 * correct/total\n",
    "            print(\"Iteration: {}. Loss: {}. Accuracy: {}.\".format(iter, loss.item(), accuracy))"
   ]
  },
  {
   "cell_type": "code",
   "execution_count": 15,
   "metadata": {},
   "outputs": [
    {
     "data": {
      "text/plain": [
       "[<matplotlib.lines.Line2D at 0x12bd69550>]"
      ]
     },
     "execution_count": 15,
     "metadata": {},
     "output_type": "execute_result"
    },
    {
     "data": {
      "image/png": "[encoded data removed]",
      "text/plain": [
       "<Figure size 432x288 with 1 Axes>"
      ]
     },
     "metadata": {
      "needs_background": "light"
     },
     "output_type": "display_data"
    }
   ],
   "source": [
    "plt.plot(np.array(record))"
   ]
  },
  {
   "cell_type": "code",
   "execution_count": null,
   "metadata": {},
   "outputs": [],
   "source": []
  }
 ],
 "metadata": {
  "kernelspec": {
   "display_name": "Python 3",
   "language": "python",
   "name": "python3"
  },
  "language_info": {
   "codemirror_mode": {
    "name": "ipython",
    "version": 3
   },
   "file_extension": ".py",
   "mimetype": "text/x-python",
   "name": "python",
   "nbconvert_exporter": "python",
   "pygments_lexer": "ipython3",
   "version": "3.6.9"
  }
 },
 "nbformat": 4,
 "nbformat_minor": 4
}
