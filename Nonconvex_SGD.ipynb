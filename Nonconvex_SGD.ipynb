{
 "cells": [
  {
   "cell_type": "code",
   "execution_count": 14,
   "metadata": {},
   "outputs": [
    {
     "name": "stdout",
     "output_type": "stream",
     "text": [
      "Building model...\n",
      "Start training...\n",
      "    Step:   500 avg_batch_loss: 1.98714\n",
      "    Step:  1000 avg_batch_loss: 1.51554\n",
      "    Step:  1500 avg_batch_loss: 1.31441\n",
      "    Finish training this EPOCH, start evaluating...\n"
     ]
    },
    {
     "name": "stderr",
     "output_type": "stream",
     "text": [
      "/nfs/stak/users/wench/wen7/envs/myenv/lib/python3.6/site-packages/torch/nn/_reduction.py:46: UserWarning: size_average and reduce args will be deprecated, please use reduction='sum' instead.\n",
      "  warnings.warn(warning.format(ret))\n"
     ]
    },
    {
     "name": "stdout",
     "output_type": "stream",
     "text": [
      "EPOCH: 1 train_loss: 1.14053 train_acc: 0.00000 test_loss: 1.18563 test_acc 0.00000\n",
      "    Step:   500 avg_batch_loss: 1.10480\n",
      "    Step:  1000 avg_batch_loss: 1.01392\n",
      "    Step:  1500 avg_batch_loss: 0.92773\n",
      "    Finish training this EPOCH, start evaluating...\n",
      "EPOCH: 2 train_loss: 0.81418 train_acc: 0.00000 test_loss: 0.93508 test_acc 0.00000\n",
      "    Step:   500 avg_batch_loss: 0.79068\n",
      "    Step:  1000 avg_batch_loss: 0.76190\n",
      "    Step:  1500 avg_batch_loss: 0.72711\n",
      "    Finish training this EPOCH, start evaluating...\n",
      "EPOCH: 3 train_loss: 0.53140 train_acc: 0.00000 test_loss: 0.76596 test_acc 0.00000\n",
      "    Step:   500 avg_batch_loss: 0.55610\n",
      "    Step:  1000 avg_batch_loss: 0.58795\n",
      "    Step:  1500 avg_batch_loss: 0.57542\n",
      "    Finish training this EPOCH, start evaluating...\n",
      "EPOCH: 4 train_loss: 0.40507 train_acc: 0.00000 test_loss: 0.82004 test_acc 0.00000\n",
      "    Step:   500 avg_batch_loss: 0.38036\n",
      "    Step:  1000 avg_batch_loss: 0.42591\n",
      "    Step:  1500 avg_batch_loss: 0.42970\n",
      "    Finish training this EPOCH, start evaluating...\n",
      "EPOCH: 5 train_loss: 0.25308 train_acc: 0.00000 test_loss: 0.82342 test_acc 0.00000\n",
      "    Step:   500 avg_batch_loss: 0.24245\n",
      "    Step:  1000 avg_batch_loss: 0.28779\n",
      "    Step:  1500 avg_batch_loss: 0.32701\n",
      "    Finish training this EPOCH, start evaluating...\n",
      "EPOCH: 6 train_loss: 0.16406 train_acc: 0.00000 test_loss: 0.95074 test_acc 0.00000\n",
      "    Step:   500 avg_batch_loss: 0.16082\n",
      "    Step:  1000 avg_batch_loss: 0.21312\n",
      "    Step:  1500 avg_batch_loss: 0.24154\n",
      "    Finish training this EPOCH, start evaluating...\n",
      "EPOCH: 7 train_loss: 0.19028 train_acc: 0.00000 test_loss: 1.09686 test_acc 0.00000\n",
      "    Step:   500 avg_batch_loss: 0.11828\n",
      "    Step:  1000 avg_batch_loss: 0.16753\n",
      "    Step:  1500 avg_batch_loss: 0.18202\n",
      "    Finish training this EPOCH, start evaluating...\n",
      "EPOCH: 8 train_loss: 0.09943 train_acc: 0.00000 test_loss: 1.21044 test_acc 0.00000\n",
      "    Step:   500 avg_batch_loss: 0.12061\n",
      "    Step:  1000 avg_batch_loss: 0.13581\n",
      "    Step:  1500 avg_batch_loss: 0.15429\n",
      "    Finish training this EPOCH, start evaluating...\n",
      "EPOCH: 9 train_loss: 0.09537 train_acc: 0.00000 test_loss: 1.26388 test_acc 0.00000\n",
      "    Step:   500 avg_batch_loss: 0.08789\n",
      "    Step:  1000 avg_batch_loss: 0.12092\n",
      "    Step:  1500 avg_batch_loss: 0.15255\n",
      "    Finish training this EPOCH, start evaluating...\n",
      "EPOCH: 10 train_loss: 0.07512 train_acc: 0.00000 test_loss: 1.36682 test_acc 0.00000\n",
      "Finished Training\n",
      "Saving model...\n"
     ]
    }
   ],
   "source": [
    "from __future__ import print_function\n",
    "from __future__ import division\n",
    "import torch\n",
    "from torch.autograd import Variable\n",
    "import torch.nn as nn\n",
    "import torch.nn.functional as F\n",
    "import torchvision\n",
    "import torchvision.transforms as transforms\n",
    "import torch.optim as optim\n",
    "\n",
    "class Net(nn.Module):\n",
    "    def __init__(self):\n",
    "        super(Net, self).__init__()\n",
    "        self.conv1 = nn.Conv2d(3, 32, 3, padding=1)\n",
    "        self.conv2 = nn.Conv2d(32, 32, 3, padding=1)\n",
    "        self.conv3 = nn.Conv2d(32, 64, 3, padding=1)\n",
    "        self.conv4 = nn.Conv2d(64, 64, 3, padding=1)\n",
    "        self.pool = nn.MaxPool2d(2, 2)\n",
    "        self.fc1 = nn.Linear(64 * 8 * 8, 512)\n",
    "        self.fc2 = nn.Linear(512, 10)\n",
    "\n",
    "    def forward(self, x):\n",
    "        x = F.relu(self.conv1(x))\n",
    "        x = F.relu(self.conv2(x))\n",
    "        x = self.pool(x)\n",
    "        x = F.relu(self.conv3(x))\n",
    "        x = F.relu(self.conv4(x))\n",
    "        x = self.pool(x)\n",
    "        x = x.view(-1, self.num_flat_features(x))\n",
    "        x = F.relu(self.fc1(x))\n",
    "        x = self.fc2(x)\n",
    "        return x\n",
    "\n",
    "    def num_flat_features(self, x):\n",
    "        size = x.size()[1:]  # all dimensions except the batch dimension\n",
    "        num_features = 1\n",
    "        for s in size:\n",
    "            num_features *= s\n",
    "        return num_features\n",
    "\n",
    "def eval_net(dataloader):\n",
    "    correct = 0\n",
    "    total = 0\n",
    "    total_loss = 0\n",
    "    net.eval() # Why would I do this?\n",
    "    criterion = nn.CrossEntropyLoss(size_average=False)\n",
    "    for data in dataloader:\n",
    "        images, labels = data\n",
    "        images, labels = Variable(images).cuda(), Variable(labels).cuda()\n",
    "        outputs = net(images)\n",
    "        _, predicted = torch.max(outputs.data, 1)\n",
    "        total += labels.size(0)\n",
    "        correct += (predicted == labels.data).sum()\n",
    "        loss = criterion(outputs, labels)\n",
    "        total_loss += loss.item()\n",
    "    net.train() # Why would I do this?\n",
    "    return total_loss / total, correct / total\n",
    "record=[]\n",
    "if __name__ == \"__main__\":\n",
    "    BATCH_SIZE = 32 #mini_batch size\n",
    "    MAX_EPOCH = 10 #maximum epoch to train\n",
    "\n",
    "    transform = transforms.Compose(\n",
    "        [transforms.ToTensor(),\n",
    "         transforms.Normalize((0.5, 0.5, 0.5), (0.5, 0.5, 0.5))]) #torchvision.transforms.Normalize(mean, std)\n",
    "\n",
    "#     trainset = torchvision.datasets.CIFAR10(root='./data1', train=True,\n",
    "#                                             download=False, transform=transform)\n",
    "#     trainloader = torch.utils.data.DataLoader(trainset, batch_size=BATCH_SIZE,\n",
    "#                                               shuffle=True, num_workers=2)\n",
    "\n",
    "#     testset = torchvision.datasets.CIFAR10(root='./data1', train=False,\n",
    "#                                            download=False, transform=transform)\n",
    "#     testloader = torch.utils.data.DataLoader(testset, batch_size=BATCH_SIZE,\n",
    "#                                              shuffle=False, num_workers=2)\n",
    "    train_dataset = torchvision.datasets.MNIST(root='./data', train=True, transform=transforms.ToTensor(), download=False)\n",
    "    test_dataset = torchvision.datasets.MNIST(root='./data', train=False, transform=transforms.ToTensor())\n",
    "    train_loader = torch.utils.data.DataLoader(dataset=train_dataset, batch_size=BATCH_SIZE, shuffle=True)\n",
    "    test_loader = torch.utils.data.DataLoader(dataset=test_dataset, batch_size=BATCH_SIZE, shuffle=False)\n",
    "    classes = ('plane', 'car', 'bird', 'cat',\n",
    "               'deer', 'dog', 'frog', 'horse', 'ship', 'truck')\n",
    "\n",
    "    print('Building model...')\n",
    "    net = Net().cuda()\n",
    "    net.train() # Why would I do this?\n",
    "\n",
    "    criterion = nn.CrossEntropyLoss()\n",
    "    optimizer = optim.SGD(net.parameters(), lr=0.01, momentum=0.9)\n",
    "\n",
    "    print('Start training...')\n",
    "    for epoch in range(MAX_EPOCH):  # loop over the dataset multiple times\n",
    "\n",
    "        running_loss = 0.0\n",
    "        for i, data in enumerate(trainloader, 0):\n",
    "            # get the inputs\n",
    "            inputs, labels = data\n",
    "\n",
    "            # wrap them in Variable\n",
    "            inputs, labels = Variable(inputs).cuda(), Variable(labels).cuda()\n",
    "\n",
    "            # zero the parameter gradients\n",
    "            optimizer.zero_grad()\n",
    "\n",
    "            # forward + backward + optimize\n",
    "            outputs = net(inputs)\n",
    "            loss = criterion(outputs, labels)\n",
    "            loss.backward()\n",
    "            optimizer.step()\n",
    "            # print statistics\n",
    "            running_loss += loss.item()\n",
    "            if i % 500 == 499:    # print every 2000 mini-batches\n",
    "                print('    Step: %5d avg_batch_loss: %.5f' %\n",
    "                      (i + 1, running_loss / 500))\n",
    "                running_loss = 0.0\n",
    "        record.append(running_loss)\n",
    "        print('    Finish training this EPOCH, start evaluating...')\n",
    "        train_loss, train_acc = eval_net(trainloader)\n",
    "        test_loss, test_acc = eval_net(testloader)\n",
    "        print('EPOCH: %d train_loss: %.5f train_acc: %.5f test_loss: %.5f test_acc %.5f' %\n",
    "              (epoch+1, train_loss, train_acc, test_loss, test_acc))\n",
    "    print('Finished Training')\n",
    "    print('Saving model...')\n",
    "    torch.save(net.state_dict(), 'mytraining.pth')\n"
   ]
  },
  {
   "cell_type": "code",
   "execution_count": 15,
   "metadata": {},
   "outputs": [
    {
     "data": {
      "text/plain": [
       "[<matplotlib.lines.Line2D at 0x7f6a8107e748>]"
      ]
     },
     "execution_count": 15,
     "metadata": {},
     "output_type": "execute_result"
    },
    {
     "data": {
      "image/png": "[encoded data removed]",
      "text/plain": [
       "<Figure size 432x288 with 1 Axes>"
      ]
     },
     "metadata": {
      "needs_background": "light"
     },
     "output_type": "display_data"
    }
   ],
   "source": [
    "from matplotlib import pyplot as plt\n",
    "plt.plot(record)"
   ]
  },
  {
   "cell_type": "code",
   "execution_count": 12,
   "metadata": {},
   "outputs": [
    {
     "data": {
      "text/plain": [
       "[74.56247758865356,\n",
       " 55.182134330272675,\n",
       " 43.35601627826691,\n",
       " 33.93928015232086,\n",
       " 28.758339375257492,\n",
       " 19.709520868957043,\n",
       " 17.703631311655045,\n",
       " 13.053175784647465,\n",
       " 8.684506446123123,\n",
       " 11.484037190675735]"
      ]
     },
     "execution_count": 12,
     "metadata": {},
     "output_type": "execute_result"
    }
   ],
   "source": [
    "record"
   ]
  },
  {
   "cell_type": "code",
   "execution_count": null,
   "metadata": {},
   "outputs": [],
   "source": []
  }
 ],
 "metadata": {
  "kernelspec": {
   "display_name": "Python 3",
   "language": "python",
   "name": "python3"
  },
  "language_info": {
   "codemirror_mode": {
    "name": "ipython",
    "version": 3
   },
   "file_extension": ".py",
   "mimetype": "text/x-python",
   "name": "python",
   "nbconvert_exporter": "python",
   "pygments_lexer": "ipython3",
   "version": "3.6.9"
  }
 },
 "nbformat": 4,
 "nbformat_minor": 4
}
